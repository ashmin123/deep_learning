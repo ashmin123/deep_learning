{
 "cells": [
  {
   "cell_type": "markdown",
   "metadata": {},
   "source": [
    "<a href=\"https://www.pieriandata.com\"><img src=\"../Pierian_Data_Logo.PNG\"></a>\n",
    "<strong><center>Copyright by Pierian Data Inc.</center></strong> \n",
    "<strong><center>Created by Jose Marcial Portilla.</center></strong>"
   ]
  },
  {
   "cell_type": "markdown",
   "metadata": {},
   "source": [
    "# Tensorboard\n",
    "\n",
    "---\n",
    "---\n",
    "\n",
    "**NOTE: You must watch the corresponding video to understand this lecture. This notebook can't serve as a full guide. Please watch the video BEFORE posting questions to the QA forum.**\n",
    "\n",
    "---\n",
    "---\n",
    "\n",
    "Let's explore the built in data visualization capabilities that come with Tensorboard.\n",
    "\n",
    "Full official tutorial available here: https://www.tensorflow.org/tensorboard/get_started\n",
    "\n",
    "## Data"
   ]
  },
  {
   "cell_type": "code",
   "execution_count": 1,
   "metadata": {},
   "outputs": [],
   "source": [
    "import pandas as pd\n",
    "import numpy as np"
   ]
  },
  {
   "cell_type": "code",
   "execution_count": 2,
   "metadata": {},
   "outputs": [],
   "source": [
    "df = pd.read_csv('../DATA/cancer_classification.csv')"
   ]
  },
  {
   "cell_type": "markdown",
   "metadata": {},
   "source": [
    "### Train Test Split"
   ]
  },
  {
   "cell_type": "code",
   "execution_count": 3,
   "metadata": {},
   "outputs": [],
   "source": [
    "X = df.drop('benign_0__mal_1',axis=1).values\n",
    "y = df['benign_0__mal_1'].values"
   ]
  },
  {
   "cell_type": "code",
   "execution_count": 4,
   "metadata": {},
   "outputs": [],
   "source": [
    "from sklearn.model_selection import train_test_split"
   ]
  },
  {
   "cell_type": "code",
   "execution_count": 5,
   "metadata": {},
   "outputs": [],
   "source": [
    "X_train, X_test, y_train, y_test = train_test_split(X,y,test_size=0.25,random_state=101)"
   ]
  },
  {
   "cell_type": "markdown",
   "metadata": {},
   "source": [
    "\n",
    "### Scaling Data"
   ]
  },
  {
   "cell_type": "code",
   "execution_count": 6,
   "metadata": {},
   "outputs": [],
   "source": [
    "from sklearn.preprocessing import MinMaxScaler"
   ]
  },
  {
   "cell_type": "code",
   "execution_count": 7,
   "metadata": {},
   "outputs": [],
   "source": [
    "scaler = MinMaxScaler()"
   ]
  },
  {
   "cell_type": "code",
   "execution_count": 8,
   "metadata": {},
   "outputs": [
    {
     "data": {
      "text/plain": [
       "MinMaxScaler(copy=True, feature_range=(0, 1))"
      ]
     },
     "execution_count": 8,
     "metadata": {},
     "output_type": "execute_result"
    }
   ],
   "source": [
    "scaler.fit(X_train)"
   ]
  },
  {
   "cell_type": "code",
   "execution_count": 9,
   "metadata": {},
   "outputs": [],
   "source": [
    "X_train = scaler.transform(X_train)\n",
    "X_test = scaler.transform(X_test)"
   ]
  },
  {
   "cell_type": "markdown",
   "metadata": {},
   "source": [
    "## Creating the Model"
   ]
  },
  {
   "cell_type": "code",
   "execution_count": 10,
   "metadata": {},
   "outputs": [],
   "source": [
    "import tensorflow as tf\n",
    "from tensorflow.keras.models import Sequential\n",
    "from tensorflow.keras.layers import Dense, Activation,Dropout"
   ]
  },
  {
   "cell_type": "code",
   "execution_count": 11,
   "metadata": {},
   "outputs": [],
   "source": [
    "from tensorflow.keras.callbacks import EarlyStopping,TensorBoard"
   ]
  },
  {
   "cell_type": "code",
   "execution_count": 12,
   "metadata": {},
   "outputs": [],
   "source": [
    "early_stop = EarlyStopping(monitor='val_loss', mode='min', verbose=1, patience=25)"
   ]
  },
  {
   "cell_type": "code",
   "execution_count": 13,
   "metadata": {},
   "outputs": [
    {
     "data": {
      "text/plain": [
       "'C:\\\\Users\\\\Ashmin.Singh\\\\OneDrive - EY\\\\docs\\\\machine learning\\\\PierionData\\\\TF_2_Notebooks_and_Data\\\\03-ANNs'"
      ]
     },
     "execution_count": 13,
     "metadata": {},
     "output_type": "execute_result"
    }
   ],
   "source": [
    "pwd"
   ]
  },
  {
   "cell_type": "markdown",
   "metadata": {},
   "source": [
    "## Creating the Tensorboard Callback\n",
    "\n",
    "TensorBoard is a visualization tool provided with TensorFlow.\n",
    "\n",
    "This callback logs events for TensorBoard, including:\n",
    "* Metrics summary plots\n",
    "* Training graph visualization\n",
    "* Activation histograms\n",
    "* Sampled profiling\n",
    "\n",
    "If you have installed TensorFlow with pip, you should be able\n",
    "to launch TensorBoard from the command line:\n",
    "\n",
    "```sh\n",
    "tensorboard --logdir=path_to_your_logs\n",
    "```\n",
    "\n",
    "You can find more information about TensorBoard\n",
    "[here](https://www.tensorflow.org/tensorboard/).\n",
    "\n",
    "    Arguments:\n",
    "        log_dir: the path of the directory where to save the log files to be\n",
    "          parsed by TensorBoard.\n",
    "        histogram_freq: frequency (in epochs) at which to compute activation and\n",
    "          weight histograms for the layers of the model. If set to 0, histograms\n",
    "          won't be computed. Validation data (or split) must be specified for\n",
    "          histogram visualizations.\n",
    "        write_graph: whether to visualize the graph in TensorBoard. The log file\n",
    "          can become quite large when write_graph is set to True.\n",
    "        write_images: whether to write model weights to visualize as image in\n",
    "          TensorBoard.\n",
    "        update_freq: `'batch'` or `'epoch'` or integer. When using `'batch'`,\n",
    "          writes the losses and metrics to TensorBoard after each batch. The same\n",
    "          applies for `'epoch'`. If using an integer, let's say `1000`, the\n",
    "          callback will write the metrics and losses to TensorBoard every 1000\n",
    "          samples. Note that writing too frequently to TensorBoard can slow down\n",
    "          your training.\n",
    "        profile_batch: Profile the batch to sample compute characteristics. By\n",
    "          default, it will profile the second batch. Set profile_batch=0 to\n",
    "          disable profiling. Must run in TensorFlow eager mode.\n",
    "        embeddings_freq: frequency (in epochs) at which embedding layers will\n",
    "          be visualized. If set to 0, embeddings won't be visualized.\n",
    "       "
   ]
  },
  {
   "cell_type": "code",
   "execution_count": 14,
   "metadata": {},
   "outputs": [],
   "source": [
    "from datetime import datetime"
   ]
  },
  {
   "cell_type": "code",
   "execution_count": 15,
   "metadata": {},
   "outputs": [
    {
     "data": {
      "text/plain": [
       "'2020-09-29--20:28'"
      ]
     },
     "execution_count": 15,
     "metadata": {},
     "output_type": "execute_result"
    }
   ],
   "source": [
    "datetime.now().strftime(\"%Y-%m-%d--%H:%M\")"
   ]
  },
  {
   "cell_type": "code",
   "execution_count": 16,
   "metadata": {},
   "outputs": [],
   "source": [
    "# WINDOWS: Use \"logs\\\\fit\"\n",
    "# MACOS/LINUX: Use \"logs\\fit\"\n",
    "\n",
    "log_directory = 'logs\\\\fit'\n",
    "\n",
    "# OPTIONAL: ADD A TIMESTAMP FOR UNIQUE FOLDER\n",
    "# timestamp = datetime.now().strftime(\"%Y-%m-%d--%H%M\")\n",
    "# log_directory = log_directory + '\\\\' + timestamp\n",
    "\n",
    "\n",
    "board = TensorBoard(log_dir=log_directory,histogram_freq=1,\n",
    "    write_graph=True,\n",
    "    write_images=True,\n",
    "    update_freq='epoch',\n",
    "    profile_batch=2,\n",
    "    embeddings_freq=1)"
   ]
  },
  {
   "cell_type": "markdown",
   "metadata": {},
   "source": [
    "Now create the model layers:"
   ]
  },
  {
   "cell_type": "code",
   "execution_count": 17,
   "metadata": {},
   "outputs": [],
   "source": [
    "model = Sequential()\n",
    "model.add(Dense(units=30,activation='relu'))\n",
    "model.add(Dropout(0.5))\n",
    "model.add(Dense(units=15,activation='relu'))\n",
    "model.add(Dropout(0.5))\n",
    "model.add(Dense(units=1,activation='sigmoid'))\n",
    "model.compile(loss='binary_crossentropy', optimizer='adam')"
   ]
  },
  {
   "cell_type": "markdown",
   "metadata": {},
   "source": [
    "## Train the Model"
   ]
  },
  {
   "cell_type": "code",
   "execution_count": 18,
   "metadata": {},
   "outputs": [
    {
     "name": "stdout",
     "output_type": "stream",
     "text": [
      "Train on 426 samples, validate on 143 samples\n",
      "Epoch 1/600\n",
      "426/426 [==============================] - 4s 10ms/sample - loss: 0.6949 - val_loss: 0.6733\n",
      "Epoch 2/600\n",
      "426/426 [==============================] - 0s 319us/sample - loss: 0.6695 - val_loss: 0.6500\n",
      "Epoch 3/600\n",
      "426/426 [==============================] - 0s 257us/sample - loss: 0.6587 - val_loss: 0.6309\n",
      "Epoch 4/600\n",
      "426/426 [==============================] - 0s 314us/sample - loss: 0.6430 - val_loss: 0.6111\n",
      "Epoch 5/600\n",
      "426/426 [==============================] - 0s 354us/sample - loss: 0.6212 - val_loss: 0.5902\n",
      "Epoch 6/600\n",
      "426/426 [==============================] - 0s 381us/sample - loss: 0.6166 - val_loss: 0.5715\n",
      "Epoch 7/600\n",
      "426/426 [==============================] - 0s 348us/sample - loss: 0.5927 - val_loss: 0.5531\n",
      "Epoch 8/600\n",
      "426/426 [==============================] - 0s 336us/sample - loss: 0.5838 - val_loss: 0.5294\n",
      "Epoch 9/600\n",
      "426/426 [==============================] - 0s 369us/sample - loss: 0.5277 - val_loss: 0.5005\n",
      "Epoch 10/600\n",
      "426/426 [==============================] - 0s 415us/sample - loss: 0.5184 - val_loss: 0.4695\n",
      "Epoch 11/600\n",
      "426/426 [==============================] - 0s 357us/sample - loss: 0.5242 - val_loss: 0.4472\n",
      "Epoch 12/600\n",
      "426/426 [==============================] - 0s 352us/sample - loss: 0.4872 - val_loss: 0.4172\n",
      "Epoch 13/600\n",
      "426/426 [==============================] - 0s 341us/sample - loss: 0.4808 - val_loss: 0.4013\n",
      "Epoch 14/600\n",
      "426/426 [==============================] - 0s 380us/sample - loss: 0.4622 - val_loss: 0.3822\n",
      "Epoch 15/600\n",
      "426/426 [==============================] - 0s 355us/sample - loss: 0.4191 - val_loss: 0.3510\n",
      "Epoch 16/600\n",
      "426/426 [==============================] - 0s 369us/sample - loss: 0.4130 - val_loss: 0.3222\n",
      "Epoch 17/600\n",
      "426/426 [==============================] - 0s 355us/sample - loss: 0.3996 - val_loss: 0.3050\n",
      "Epoch 18/600\n",
      "426/426 [==============================] - 0s 333us/sample - loss: 0.3837 - val_loss: 0.2923\n",
      "Epoch 19/600\n",
      "426/426 [==============================] - 0s 348us/sample - loss: 0.3772 - val_loss: 0.2773\n",
      "Epoch 20/600\n",
      "426/426 [==============================] - 0s 366us/sample - loss: 0.3577 - val_loss: 0.2697\n",
      "Epoch 21/600\n",
      "426/426 [==============================] - 0s 361us/sample - loss: 0.3304 - val_loss: 0.2568\n",
      "Epoch 22/600\n",
      "426/426 [==============================] - 0s 417us/sample - loss: 0.3576 - val_loss: 0.2442\n",
      "Epoch 23/600\n",
      "426/426 [==============================] - 0s 355us/sample - loss: 0.3190 - val_loss: 0.2340\n",
      "Epoch 24/600\n",
      "426/426 [==============================] - 0s 388us/sample - loss: 0.2875 - val_loss: 0.2196\n",
      "Epoch 25/600\n",
      "426/426 [==============================] - 0s 374us/sample - loss: 0.3146 - val_loss: 0.2071\n",
      "Epoch 26/600\n",
      "426/426 [==============================] - 0s 361us/sample - loss: 0.3013 - val_loss: 0.1997\n",
      "Epoch 27/600\n",
      "426/426 [==============================] - 0s 364us/sample - loss: 0.2838 - val_loss: 0.1917\n",
      "Epoch 28/600\n",
      "426/426 [==============================] - 0s 319us/sample - loss: 0.2801 - val_loss: 0.1820\n",
      "Epoch 29/600\n",
      "426/426 [==============================] - 0s 353us/sample - loss: 0.2717 - val_loss: 0.1816\n",
      "Epoch 30/600\n",
      "426/426 [==============================] - 0s 347us/sample - loss: 0.2387 - val_loss: 0.1731\n",
      "Epoch 31/600\n",
      "426/426 [==============================] - 0s 348us/sample - loss: 0.2570 - val_loss: 0.1743\n",
      "Epoch 32/600\n",
      "426/426 [==============================] - 0s 355us/sample - loss: 0.2680 - val_loss: 0.1748\n",
      "Epoch 33/600\n",
      "426/426 [==============================] - 0s 360us/sample - loss: 0.2386 - val_loss: 0.1594\n",
      "Epoch 34/600\n",
      "426/426 [==============================] - 0s 359us/sample - loss: 0.2378 - val_loss: 0.1559\n",
      "Epoch 35/600\n",
      "426/426 [==============================] - 0s 333us/sample - loss: 0.2219 - val_loss: 0.1543\n",
      "Epoch 36/600\n",
      "426/426 [==============================] - 0s 356us/sample - loss: 0.2389 - val_loss: 0.1443\n",
      "Epoch 37/600\n",
      "426/426 [==============================] - 0s 373us/sample - loss: 0.2161 - val_loss: 0.1455\n",
      "Epoch 38/600\n",
      "426/426 [==============================] - 0s 348us/sample - loss: 0.2242 - val_loss: 0.1478\n",
      "Epoch 39/600\n",
      "426/426 [==============================] - 0s 337us/sample - loss: 0.2056 - val_loss: 0.1393\n",
      "Epoch 40/600\n",
      "426/426 [==============================] - 0s 334us/sample - loss: 0.2211 - val_loss: 0.1359\n",
      "Epoch 41/600\n",
      "426/426 [==============================] - 0s 364us/sample - loss: 0.2485 - val_loss: 0.1364\n",
      "Epoch 42/600\n",
      "426/426 [==============================] - 0s 364us/sample - loss: 0.2239 - val_loss: 0.1428\n",
      "Epoch 43/600\n",
      "426/426 [==============================] - 0s 403us/sample - loss: 0.2107 - val_loss: 0.1323\n",
      "Epoch 44/600\n",
      "426/426 [==============================] - 0s 313us/sample - loss: 0.2003 - val_loss: 0.1284\n",
      "Epoch 45/600\n",
      "426/426 [==============================] - 0s 349us/sample - loss: 0.1956 - val_loss: 0.1266\n",
      "Epoch 46/600\n",
      "426/426 [==============================] - 0s 388us/sample - loss: 0.1714 - val_loss: 0.1251\n",
      "Epoch 47/600\n",
      "426/426 [==============================] - 0s 330us/sample - loss: 0.1758 - val_loss: 0.1212\n",
      "Epoch 48/600\n",
      "426/426 [==============================] - 0s 358us/sample - loss: 0.1871 - val_loss: 0.1162\n",
      "Epoch 49/600\n",
      "426/426 [==============================] - 0s 328us/sample - loss: 0.1921 - val_loss: 0.1141\n",
      "Epoch 50/600\n",
      "426/426 [==============================] - 0s 351us/sample - loss: 0.1651 - val_loss: 0.1272\n",
      "Epoch 51/600\n",
      "426/426 [==============================] - 0s 316us/sample - loss: 0.1949 - val_loss: 0.1129\n",
      "Epoch 52/600\n",
      "426/426 [==============================] - 0s 342us/sample - loss: 0.1651 - val_loss: 0.1231\n",
      "Epoch 53/600\n",
      "426/426 [==============================] - 0s 347us/sample - loss: 0.1814 - val_loss: 0.1137\n",
      "Epoch 54/600\n",
      "426/426 [==============================] - 0s 268us/sample - loss: 0.1770 - val_loss: 0.1118\n",
      "Epoch 55/600\n",
      "426/426 [==============================] - 0s 318us/sample - loss: 0.1608 - val_loss: 0.1171\n",
      "Epoch 56/600\n",
      "426/426 [==============================] - 0s 318us/sample - loss: 0.1861 - val_loss: 0.1103\n",
      "Epoch 57/600\n",
      "426/426 [==============================] - 0s 357us/sample - loss: 0.1653 - val_loss: 0.1217\n",
      "Epoch 58/600\n",
      "426/426 [==============================] - 0s 317us/sample - loss: 0.1796 - val_loss: 0.1106\n",
      "Epoch 59/600\n",
      "426/426 [==============================] - 0s 334us/sample - loss: 0.1527 - val_loss: 0.1068\n",
      "Epoch 60/600\n",
      "426/426 [==============================] - 0s 331us/sample - loss: 0.1396 - val_loss: 0.1068\n",
      "Epoch 61/600\n",
      "426/426 [==============================] - 0s 318us/sample - loss: 0.1538 - val_loss: 0.1168\n",
      "Epoch 62/600\n",
      "426/426 [==============================] - 0s 346us/sample - loss: 0.1496 - val_loss: 0.1114\n",
      "Epoch 63/600\n",
      "426/426 [==============================] - 0s 446us/sample - loss: 0.1454 - val_loss: 0.1120\n",
      "Epoch 64/600\n",
      "426/426 [==============================] - 0s 341us/sample - loss: 0.1455 - val_loss: 0.1052\n",
      "Epoch 65/600\n",
      "426/426 [==============================] - 0s 344us/sample - loss: 0.1191 - val_loss: 0.1134\n",
      "Epoch 66/600\n",
      "426/426 [==============================] - 0s 342us/sample - loss: 0.1731 - val_loss: 0.1115\n",
      "Epoch 67/600\n",
      "426/426 [==============================] - 0s 363us/sample - loss: 0.1623 - val_loss: 0.1072\n",
      "Epoch 68/600\n",
      "426/426 [==============================] - 0s 311us/sample - loss: 0.1493 - val_loss: 0.1081\n",
      "Epoch 69/600\n",
      "426/426 [==============================] - 0s 331us/sample - loss: 0.1250 - val_loss: 0.1055\n",
      "Epoch 70/600\n",
      "426/426 [==============================] - 0s 358us/sample - loss: 0.1489 - val_loss: 0.1071\n",
      "Epoch 71/600\n",
      "426/426 [==============================] - 0s 408us/sample - loss: 0.1265 - val_loss: 0.1005\n",
      "Epoch 72/600\n",
      "426/426 [==============================] - 0s 361us/sample - loss: 0.1342 - val_loss: 0.1008\n",
      "Epoch 73/600\n",
      "426/426 [==============================] - 0s 417us/sample - loss: 0.1274 - val_loss: 0.1000\n",
      "Epoch 74/600\n",
      "426/426 [==============================] - 0s 323us/sample - loss: 0.1521 - val_loss: 0.1013\n",
      "Epoch 75/600\n",
      "426/426 [==============================] - 0s 347us/sample - loss: 0.1453 - val_loss: 0.1047\n",
      "Epoch 76/600\n",
      "426/426 [==============================] - 0s 324us/sample - loss: 0.1346 - val_loss: 0.1038\n",
      "Epoch 77/600\n",
      "426/426 [==============================] - 0s 361us/sample - loss: 0.1203 - val_loss: 0.1029\n"
     ]
    },
    {
     "name": "stdout",
     "output_type": "stream",
     "text": [
      "Epoch 78/600\n",
      "426/426 [==============================] - 0s 356us/sample - loss: 0.1180 - val_loss: 0.1059\n",
      "Epoch 79/600\n",
      "426/426 [==============================] - 0s 364us/sample - loss: 0.1254 - val_loss: 0.1019\n",
      "Epoch 80/600\n",
      "426/426 [==============================] - 0s 384us/sample - loss: 0.1309 - val_loss: 0.1039\n",
      "Epoch 81/600\n",
      "426/426 [==============================] - 0s 352us/sample - loss: 0.1164 - val_loss: 0.1024\n",
      "Epoch 82/600\n",
      "426/426 [==============================] - 0s 350us/sample - loss: 0.1344 - val_loss: 0.1052\n",
      "Epoch 83/600\n",
      "426/426 [==============================] - 0s 377us/sample - loss: 0.1102 - val_loss: 0.0973\n",
      "Epoch 84/600\n",
      "426/426 [==============================] - 0s 284us/sample - loss: 0.1063 - val_loss: 0.1083\n",
      "Epoch 85/600\n",
      "426/426 [==============================] - 0s 341us/sample - loss: 0.1089 - val_loss: 0.1010\n",
      "Epoch 86/600\n",
      "426/426 [==============================] - 0s 362us/sample - loss: 0.1073 - val_loss: 0.1118\n",
      "Epoch 87/600\n",
      "426/426 [==============================] - 0s 355us/sample - loss: 0.1202 - val_loss: 0.1016\n",
      "Epoch 88/600\n",
      "426/426 [==============================] - 0s 237us/sample - loss: 0.1291 - val_loss: 0.0978\n",
      "Epoch 89/600\n",
      "426/426 [==============================] - 0s 244us/sample - loss: 0.1440 - val_loss: 0.1180\n",
      "Epoch 90/600\n",
      "426/426 [==============================] - 0s 338us/sample - loss: 0.1150 - val_loss: 0.0998\n",
      "Epoch 91/600\n",
      "426/426 [==============================] - 0s 505us/sample - loss: 0.1253 - val_loss: 0.1087\n",
      "Epoch 92/600\n",
      "426/426 [==============================] - 0s 358us/sample - loss: 0.1120 - val_loss: 0.1070\n",
      "Epoch 93/600\n",
      "426/426 [==============================] - 0s 292us/sample - loss: 0.0987 - val_loss: 0.0993\n",
      "Epoch 94/600\n",
      "426/426 [==============================] - 0s 324us/sample - loss: 0.1061 - val_loss: 0.0975\n",
      "Epoch 95/600\n",
      "426/426 [==============================] - 0s 367us/sample - loss: 0.0998 - val_loss: 0.1010\n",
      "Epoch 96/600\n",
      "426/426 [==============================] - 0s 335us/sample - loss: 0.0963 - val_loss: 0.1174\n",
      "Epoch 97/600\n",
      "426/426 [==============================] - 0s 375us/sample - loss: 0.1122 - val_loss: 0.1024\n",
      "Epoch 98/600\n",
      "426/426 [==============================] - 0s 348us/sample - loss: 0.1078 - val_loss: 0.1032\n",
      "Epoch 99/600\n",
      "426/426 [==============================] - 0s 320us/sample - loss: 0.0983 - val_loss: 0.0985\n",
      "Epoch 100/600\n",
      "426/426 [==============================] - 0s 358us/sample - loss: 0.1014 - val_loss: 0.1028\n",
      "Epoch 101/600\n",
      "426/426 [==============================] - 0s 360us/sample - loss: 0.1222 - val_loss: 0.1045\n",
      "Epoch 102/600\n",
      "426/426 [==============================] - 0s 338us/sample - loss: 0.1118 - val_loss: 0.1124\n",
      "Epoch 103/600\n",
      "426/426 [==============================] - 0s 333us/sample - loss: 0.1079 - val_loss: 0.1054\n",
      "Epoch 104/600\n",
      "426/426 [==============================] - 0s 356us/sample - loss: 0.0853 - val_loss: 0.1005\n",
      "Epoch 105/600\n",
      "426/426 [==============================] - 0s 357us/sample - loss: 0.1253 - val_loss: 0.1021\n",
      "Epoch 106/600\n",
      "426/426 [==============================] - 0s 361us/sample - loss: 0.1277 - val_loss: 0.0990\n",
      "Epoch 107/600\n",
      "426/426 [==============================] - 0s 363us/sample - loss: 0.0989 - val_loss: 0.1017\n",
      "Epoch 108/600\n",
      "426/426 [==============================] - 0s 344us/sample - loss: 0.1111 - val_loss: 0.1100\n",
      "Epoch 00108: early stopping\n"
     ]
    },
    {
     "data": {
      "text/plain": [
       "<tensorflow.python.keras.callbacks.History at 0x28d9d479888>"
      ]
     },
     "execution_count": 18,
     "metadata": {},
     "output_type": "execute_result"
    }
   ],
   "source": [
    "model.fit(x=X_train, \n",
    "          y=y_train, \n",
    "          epochs=600,\n",
    "          validation_data=(X_test, y_test), verbose=1,\n",
    "          callbacks=[early_stop,board]\n",
    "          )"
   ]
  },
  {
   "cell_type": "markdown",
   "metadata": {},
   "source": [
    "# Running Tensorboard\n"
   ]
  },
  {
   "cell_type": "markdown",
   "metadata": {},
   "source": [
    "## Running through the Command Line\n",
    "\n",
    "**Watch video to see how to run Tensorboard through a command line call.**"
   ]
  },
  {
   "cell_type": "markdown",
   "metadata": {},
   "source": [
    "Tensorboard will run locally in your browser at [http://localhost:6006/](http://localhost:6006/)\n"
   ]
  },
  {
   "cell_type": "code",
   "execution_count": 19,
   "metadata": {},
   "outputs": [
    {
     "name": "stdout",
     "output_type": "stream",
     "text": [
      "logs\\fit\n"
     ]
    }
   ],
   "source": [
    "print(log_directory)"
   ]
  },
  {
   "cell_type": "code",
   "execution_count": 20,
   "metadata": {},
   "outputs": [
    {
     "data": {
      "text/plain": [
       "'C:\\\\Users\\\\Ashmin.Singh\\\\OneDrive - EY\\\\docs\\\\machine learning\\\\PierionData\\\\TF_2_Notebooks_and_Data\\\\03-ANNs'"
      ]
     },
     "execution_count": 20,
     "metadata": {},
     "output_type": "execute_result"
    }
   ],
   "source": [
    "pwd"
   ]
  },
  {
   "cell_type": "markdown",
   "metadata": {},
   "source": [
    "### Use cd at your command line to change directory to the file path reported back by pwd or your current .py file location.\n",
    "### Then run this code at your command line or terminal"
   ]
  },
  {
   "cell_type": "code",
   "execution_count": null,
   "metadata": {},
   "outputs": [],
   "source": [
    "tensorboard --logdir logs\\fit "
   ]
  }
 ],
 "metadata": {
  "kernelspec": {
   "display_name": "Python 3",
   "language": "python",
   "name": "python3"
  },
  "language_info": {
   "codemirror_mode": {
    "name": "ipython",
    "version": 3
   },
   "file_extension": ".py",
   "mimetype": "text/x-python",
   "name": "python",
   "nbconvert_exporter": "python",
   "pygments_lexer": "ipython3",
   "version": "3.7.4"
  }
 },
 "nbformat": 4,
 "nbformat_minor": 2
}
